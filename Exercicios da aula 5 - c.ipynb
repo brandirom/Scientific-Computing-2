{
 "cells": [
  {
   "cell_type": "markdown",
   "id": "77c40b0c",
   "metadata": {},
   "source": [
    "# Estabilidade do Metodo de Leap-Frog:"
   ]
  },
  {
   "cell_type": "markdown",
   "id": "167c8e7f",
   "metadata": {},
   "source": [
    "Let $\\lambda \\in \\mathbb{C}$. The time derivative of $u$ can be expressed as $\\frac{du}{dt} = \\lambda u$. Utilizing this information, we deduce the recurrence relation for $u_{k+1}$:\n",
    "\n",
    "$$u_{k+1} = u_{k-1} + 2 h \\lambda u_k$$\n",
    "\n",
    "The characteristic equation corresponding to this recursion is:\n",
    "\n",
    "$$\\mu^2 - 2 \\lambda h \\mu - 1 = 0$$\n",
    "\n",
    "Considering $\\mu_1$ and $\\mu_2$ as solutions of the characteristic equation, and as $\\lambda \\in \\mathbb{C}$, we can express $\\mu_1 = re^{i\\phi}$. Since $\\mu_1 \\mu_2 = -1$, we obtain $\\mu_2 = (-1/r)e^{-i\\phi}$. It is well known that for stability, $r = 1$. \n",
    "\n",
    "Furthermore, since $\\mu_1 + \\mu_2 = 2 h \\lambda$, we arrive at:\n",
    "\n",
    "$$e^{i\\phi} - e^{-i\\phi} = 2 h \\lambda$$\n",
    "\n",
    "This simplifies to:\n",
    "\n",
    "$$h \\lambda = i \\sin(\\phi)$$\n",
    "\n",
    "Consequently, we conclude that the interval of stability for this method is when $\\lambda$ lies in the interval $[-i,i]$."
   ]
  }
 ],
 "metadata": {
  "kernelspec": {
   "display_name": "Python 3 (ipykernel)",
   "language": "python",
   "name": "python3"
  },
  "language_info": {
   "codemirror_mode": {
    "name": "ipython",
    "version": 3
   },
   "file_extension": ".py",
   "mimetype": "text/x-python",
   "name": "python",
   "nbconvert_exporter": "python",
   "pygments_lexer": "ipython3",
   "version": "3.9.16"
  }
 },
 "nbformat": 4,
 "nbformat_minor": 5
}
